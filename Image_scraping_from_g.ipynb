{
 "cells": [
  {
   "cell_type": "code",
   "execution_count": 12,
   "id": "470f7062-d80d-4d11-8d81-4d3e68411015",
   "metadata": {},
   "outputs": [],
   "source": [
    "import requests\n",
    "from bs4 import BeautifulSoup\n",
    "from urllib.request import urlopen as uReq\n",
    "import os"
   ]
  },
  {
   "cell_type": "code",
   "execution_count": 13,
   "id": "f658faf7-d66d-4541-a6f0-4d994019d93c",
   "metadata": {},
   "outputs": [
    {
     "name": "stdout",
     "output_type": "stream",
     "text": [
      "File already exits\n"
     ]
    }
   ],
   "source": [
    "#Making a folder for images\n",
    "save_dir = \"images/\"  # This is the name of the folder\n",
    "if not os.path.exists(save_dir):\n",
    "    os.makedirs(save_dir)\n",
    "else:\n",
    "    print(\"File already exits\")"
   ]
  },
  {
   "cell_type": "code",
   "execution_count": 14,
   "id": "3f9cb475-9088-442d-adfa-223f3f657fbd",
   "metadata": {},
   "outputs": [],
   "source": [
    "query = \"Elon mask\"\n",
    "response = requests.get(f\"https://www.google.com/search?q={query}&sca_esv=600688552&hl=en&tbm=isch&sxsrf=ACQVn09oGBQ32FJ38MOfKoREefmYzFolpw%3A1706001900930&source=hp&biw=1920&bih=911&ei=7IWvZcS0Nvnt2roPzuuh0Ak&iflsig=ANes7DEAAAAAZa-T_GyGJxpH5qI1GGc-3yAEi5S_EQye&oq=&gs_lp=EgNpbWciACoCCAEyBxAjGOoCGCcyBxAjGOoCGCcyBxAjGOoCGCcyBxAjGOoCGCcyBxAjGOoCGCcyBxAjGOoCGCcyBxAjGOoCGCcyBxAjGOoCGCcyBxAjGOoCGCcyBxAjGOoCGCdIqg5QAFgAcAF4AJABAJgBAKABAKoBALgBAcgBAIoCC2d3cy13aXotaW1nqAIK&sclient=img\")"
   ]
  },
  {
   "cell_type": "code",
   "execution_count": 15,
   "id": "b2f5669a-dc24-4a55-93c6-ed50b15adff0",
   "metadata": {},
   "outputs": [
    {
     "data": {
      "text/plain": [
       "<Response [200]>"
      ]
     },
     "execution_count": 15,
     "metadata": {},
     "output_type": "execute_result"
    }
   ],
   "source": [
    "response"
   ]
  },
  {
   "cell_type": "code",
   "execution_count": 16,
   "id": "1d5c5ff9-7745-4585-b1d1-f9adf9e085b1",
   "metadata": {},
   "outputs": [],
   "source": [
    "soup = BeautifulSoup(response.content,'html.parser')"
   ]
  },
  {
   "cell_type": "code",
   "execution_count": 17,
   "id": "5afffef1-636d-415e-9ffa-8f8d5daeb7c9",
   "metadata": {},
   "outputs": [
    {
     "data": {
      "text/plain": [
       "21"
      ]
     },
     "execution_count": 17,
     "metadata": {},
     "output_type": "execute_result"
    }
   ],
   "source": [
    "images_tages = soup.find_all(\"img\")\n",
    "len(images_tages)"
   ]
  },
  {
   "cell_type": "code",
   "execution_count": 18,
   "id": "3abda32b-9e48-491c-ab85-2f2178ac7ad7",
   "metadata": {},
   "outputs": [
    {
     "data": {
      "text/plain": [
       "<img alt=\"Google\" class=\"kgJEQe\" src=\"/images/branding/searchlogo/1x/googlelogo_desk_heirloom_color_150x55dp.gif\"/>"
      ]
     },
     "execution_count": 18,
     "metadata": {},
     "output_type": "execute_result"
    }
   ],
   "source": [
    "images_tages[0]"
   ]
  },
  {
   "cell_type": "code",
   "execution_count": 19,
   "id": "ca550d9c-f90d-4faa-9e47-7ff93bd97469",
   "metadata": {},
   "outputs": [],
   "source": [
    "del images_tages[0]"
   ]
  },
  {
   "cell_type": "code",
   "execution_count": 20,
   "id": "4939a7d4-7762-485d-aafb-9e8619819130",
   "metadata": {},
   "outputs": [
    {
     "data": {
      "text/plain": [
       "<img alt=\"\" class=\"DS1iW\" src=\"https://encrypted-tbn0.gstatic.com/images?q=tbn:ANd9GcSsksZmP_XTINDzPrOHKHR-fXCXDCXJctG2CPYNFjaVIxpN4gGIcQCd1n6N7-Y&amp;s\"/>"
      ]
     },
     "execution_count": 20,
     "metadata": {},
     "output_type": "execute_result"
    }
   ],
   "source": [
    "images_tages[0]"
   ]
  },
  {
   "cell_type": "code",
   "execution_count": 21,
   "id": "d1a9f9a5-31ad-42cd-8504-0ef2db9f4262",
   "metadata": {},
   "outputs": [],
   "source": [
    "for i in images_tages:\n",
    "    images_url = i['src']  # Extracting the image URL\n",
    "    image_data = requests.get(images_url).content\n",
    "    with open(os.path.join(save_dir, f\"{query}_{images_tages.index(i)}.jpg\"), \"wb\") as f:\n",
    "        f.write(image_data)"
   ]
  }
 ],
 "metadata": {
  "kernelspec": {
   "display_name": "your_environment_name",
   "language": "python",
   "name": "your_environment_name"
  },
  "language_info": {
   "codemirror_mode": {
    "name": "ipython",
    "version": 3
   },
   "file_extension": ".py",
   "mimetype": "text/x-python",
   "name": "python",
   "nbconvert_exporter": "python",
   "pygments_lexer": "ipython3",
   "version": "3.10.9"
  }
 },
 "nbformat": 4,
 "nbformat_minor": 5
}
